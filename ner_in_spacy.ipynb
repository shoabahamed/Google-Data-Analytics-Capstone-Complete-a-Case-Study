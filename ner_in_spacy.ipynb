{
  "cells": [
    {
      "cell_type": "markdown",
      "metadata": {
        "id": "view-in-github",
        "colab_type": "text"
      },
      "source": [
        "<a href=\"https://colab.research.google.com/github/shoabahamed/Google-Data-Analytics-Capstone-Complete-a-Case-Study/blob/main/ner_in_spacy.ipynb\" target=\"_parent\"><img src=\"https://colab.research.google.com/assets/colab-badge.svg\" alt=\"Open In Colab\"/></a>"
      ]
    },
    {
      "cell_type": "code",
      "source": [
        "import spacy\n",
        "\n",
        "nlp = spacy.load(\"en_core_web_sm\")"
      ],
      "metadata": {
        "id": "6d4XnPBTqtrf"
      },
      "execution_count": 2,
      "outputs": []
    },
    {
      "cell_type": "code",
      "source": [],
      "metadata": {
        "id": "oWC_dV1nrD4k"
      },
      "execution_count": null,
      "outputs": []
    },
    {
      "cell_type": "code",
      "source": [
        "doc = nlp(\"Tesla founded Bloomberg is a Company $2 3 Ravish Kumar LONDON\")\n",
        "\n",
        "for ent in doc.ents:\n",
        "  print(ent, \" | \", ent.label_)"
      ],
      "metadata": {
        "id": "RIgfq0Jmq53s",
        "outputId": "1d35cf25-8abd-4e90-a41e-8a40aaa1dd74",
        "colab": {
          "base_uri": "https://localhost:8080/"
        }
      },
      "execution_count": 33,
      "outputs": [
        {
          "output_type": "stream",
          "name": "stdout",
          "text": [
            "Bloomberg  |  ORG\n",
            "Ravish  |  NORP\n",
            "LONDON  |  GPE\n"
          ]
        }
      ]
    },
    {
      "cell_type": "code",
      "source": [
        "nlp.pipe_labels['ner']"
      ],
      "metadata": {
        "id": "-aXeHqqBsEeA",
        "outputId": "c27e647a-4a20-4190-8d33-15d648cc86c0",
        "colab": {
          "base_uri": "https://localhost:8080/"
        }
      },
      "execution_count": 18,
      "outputs": [
        {
          "output_type": "execute_result",
          "data": {
            "text/plain": [
              "['CARDINAL',\n",
              " 'DATE',\n",
              " 'EVENT',\n",
              " 'FAC',\n",
              " 'GPE',\n",
              " 'LANGUAGE',\n",
              " 'LAW',\n",
              " 'LOC',\n",
              " 'MONEY',\n",
              " 'NORP',\n",
              " 'ORDINAL',\n",
              " 'ORG',\n",
              " 'PERCENT',\n",
              " 'PERSON',\n",
              " 'PRODUCT',\n",
              " 'QUANTITY',\n",
              " 'TIME',\n",
              " 'WORK_OF_ART']"
            ]
          },
          "metadata": {},
          "execution_count": 18
        }
      ]
    },
    {
      "cell_type": "code",
      "source": [
        "from spacy.tokens import Span\n",
        "\n",
        "s1 = Span(doc, 0, 1, label='ORG')\n",
        "s2 = Span(doc, 10, 12, label='PERSON')\n",
        "\n",
        "doc.set_ents([s1, s2], default='unmodified')"
      ],
      "metadata": {
        "id": "Kq-Xu-MFsWx8"
      },
      "execution_count": 31,
      "outputs": []
    },
    {
      "cell_type": "code",
      "source": [
        "\n",
        "\n",
        "for ent in doc.ents:\n",
        "  print(ent, \" | \", ent.label_)"
      ],
      "metadata": {
        "id": "ztBnW16otWvS",
        "outputId": "c3dc673d-c0ac-48e2-d7c4-e8ac0e14f66b",
        "colab": {
          "base_uri": "https://localhost:8080/"
        }
      },
      "execution_count": 32,
      "outputs": [
        {
          "output_type": "stream",
          "name": "stdout",
          "text": [
            "Tesla  |  ORG\n",
            "Bloomberg  |  ORG\n",
            "2  |  MONEY\n",
            "Ravish Kumar  |  PERSON\n"
          ]
        }
      ]
    },
    {
      "cell_type": "markdown",
      "source": [
        "\n",
        "\n",
        "Excersie: 1\n",
        "* Extract all the Geographical (cities, Countries, states) names from a given text"
      ],
      "metadata": {
        "id": "dqGZu5gTu_ic"
      }
    },
    {
      "cell_type": "code",
      "source": [
        "text = \"\"\"Kiran want to know the famous foods in each state of India. So, he opened Google and search for this question. Google showed that\n",
        "in Delhi it is Chaat, in Gujarat it is Dal Dhokli, in Tamilnadu it is Pongal, in Andhrapradesh it is Biryani, in Assam it is Papaya Khar,\n",
        "in Bihar it is Litti Chowkha and so on for all other states\"\"\"\n",
        "\n",
        "doc = nlp(text)\n",
        "locations = []\n",
        "for ent in doc.ents:\n",
        "  if ent.label_ == \"GPE\":\n",
        "    locations.append(ent)\n",
        "\n",
        "print(locations)"
      ],
      "metadata": {
        "id": "0d3CRmVEtUxE",
        "outputId": "b44d1986-1b60-4003-eb26-f216581372f2",
        "colab": {
          "base_uri": "https://localhost:8080/"
        }
      },
      "execution_count": 38,
      "outputs": [
        {
          "output_type": "stream",
          "name": "stdout",
          "text": [
            "[India, Delhi, Gujarat, Tamilnadu, Andhrapradesh, Bihar]\n"
          ]
        }
      ]
    },
    {
      "cell_type": "markdown",
      "source": [
        "Excersie: 2\n",
        "\n",
        "Extract all the birth dates of cricketers in the given Text"
      ],
      "metadata": {
        "id": "bMqYr8zYvqCU"
      }
    },
    {
      "cell_type": "code",
      "source": [
        "text = \"\"\"Sachin Tendulkar was born on 24 April 1973, Virat Kholi was born on 5 November 1988, Dhoni was born on 7 July 1981\n",
        "and finally Ricky ponting was born on 19 December 1974.\"\"\"\n",
        "\n",
        "doc = nlp(text)\n",
        "dates = []\n",
        "\n",
        "for ent in doc.ents:\n",
        "  if ent.label_ == 'DATE':\n",
        "    dates.append(ent)\n",
        "\n",
        "print(dates)"
      ],
      "metadata": {
        "id": "bD4Dn9CFvpZl",
        "outputId": "3d0a4d75-d9e4-4ea3-e761-4dcd2c5acef6",
        "colab": {
          "base_uri": "https://localhost:8080/"
        }
      },
      "execution_count": 40,
      "outputs": [
        {
          "output_type": "stream",
          "name": "stdout",
          "text": [
            "[24 April 1973, 5 November 1988, 7 July 1981, 19 December 1974]\n"
          ]
        }
      ]
    }
  ],
  "metadata": {
    "colab": {
      "name": "Welcome To Colaboratory",
      "provenance": [],
      "include_colab_link": true
    },
    "kernelspec": {
      "display_name": "Python 3",
      "name": "python3"
    }
  },
  "nbformat": 4,
  "nbformat_minor": 0
}